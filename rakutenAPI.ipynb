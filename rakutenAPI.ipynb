{
 "cells": [
  {
   "cell_type": "markdown",
   "metadata": {},
   "source": [
    "# 楽天API"
   ]
  },
  {
   "cell_type": "markdown",
   "metadata": {},
   "source": [
    "## import library"
   ]
  },
  {
   "cell_type": "code",
   "execution_count": 164,
   "metadata": {},
   "outputs": [],
   "source": [
    "import requests\n",
    "import json\n",
    "import time\n",
    "import sys\n",
    "import pandas as pd"
   ]
  },
  {
   "cell_type": "markdown",
   "metadata": {},
   "source": [
    "## applicaton"
   ]
  },
  {
   "cell_type": "code",
   "execution_count": 5,
   "metadata": {},
   "outputs": [],
   "source": [
    "appID = \"1046699380825538810\""
   ]
  },
  {
   "cell_type": "markdown",
   "metadata": {},
   "source": [
    "## API"
   ]
  },
  {
   "cell_type": "code",
   "execution_count": 38,
   "metadata": {},
   "outputs": [],
   "source": [
    "api = \"https://app.rakuten.co.jp/services/api/BooksBook/Search/20170404?format=json&title={title}&hits={hits}&page={page}&applicationId={APIkey}\""
   ]
  },
  {
   "cell_type": "markdown",
   "metadata": {},
   "source": [
    "## Parameter"
   ]
  },
  {
   "cell_type": "code",
   "execution_count": 128,
   "metadata": {},
   "outputs": [],
   "source": [
    "# 書籍タイトル\n",
    "titles = [\"Python\"]\n",
    "# 1ページあたりの取得件数 [1~30]\n",
    "hit = 30\n",
    "# 取得ページ [1~100]\n",
    "pages = 2"
   ]
  },
  {
   "cell_type": "markdown",
   "metadata": {},
   "source": [
    "## list"
   ]
  },
  {
   "cell_type": "code",
   "execution_count": 151,
   "metadata": {},
   "outputs": [],
   "source": [
    "ttl = []\n",
    "athr = []\n",
    "pub = []\n",
    "icap = []\n",
    "ISBN = []\n",
    "sldt = []\n",
    "ipri = []\n",
    "Size = []\n",
    "bgId = []\n",
    "rcnt = []\n",
    "rave = []"
   ]
  },
  {
   "cell_type": "code",
   "execution_count": 163,
   "metadata": {},
   "outputs": [
    {
     "name": "stdout",
     "output_type": "stream",
     "text": [
      "error.: list index out of range\n",
      "error.: list index out of range\n",
      "error.: list index out of range\n",
      "error.: 'Items'\n",
      "error.: 'Items'\n",
      "error.: 'Items'\n",
      "error.: 'Items'\n",
      "error.: 'Items'\n",
      "error.: 'Items'\n",
      "error.: 'Items'\n",
      "error.: 'Items'\n",
      "error.: 'Items'\n",
      "error.: 'Items'\n",
      "error.: 'Items'\n",
      "error.: 'Items'\n",
      "error.: 'Items'\n",
      "error.: 'Items'\n",
      "error.: 'Items'\n",
      "error.: 'Items'\n",
      "error.: 'Items'\n",
      "error.: 'Items'\n",
      "error.: 'Items'\n",
      "error.: 'Items'\n",
      "error.: 'Items'\n",
      "error.: 'Items'\n",
      "error.: 'Items'\n",
      "error.: 'Items'\n",
      "error.: 'Items'\n",
      "error.: 'Items'\n",
      "error.: 'Items'\n",
      "error.: 'Items'\n",
      "error.: 'Items'\n",
      "error.: 'Items'\n",
      "error.: 'Items'\n",
      "error.: 'Items'\n",
      "error.: 'Items'\n",
      "error.: 'Items'\n",
      "error.: 'Items'\n",
      "error.: 'Items'\n",
      "error.: 'Items'\n",
      "error.: 'Items'\n",
      "error.: 'Items'\n",
      "error.: 'Items'\n",
      "error.: 'Items'\n",
      "error.: 'Items'\n",
      "error.: 'Items'\n",
      "error.: 'Items'\n",
      "error.: 'Items'\n",
      "error.: 'Items'\n",
      "error.: 'Items'\n",
      "error.: 'Items'\n",
      "error.: 'Items'\n",
      "error.: 'Items'\n",
      "error.: 'Items'\n",
      "error.: 'Items'\n",
      "error.: 'Items'\n",
      "error.: 'Items'\n",
      "error.: 'Items'\n",
      "error.: 'Items'\n",
      "error.: 'Items'\n",
      "error.: 'Items'\n",
      "error.: 'Items'\n",
      "error.: 'Items'\n",
      "error.: 'Items'\n",
      "error.: 'Items'\n",
      "error.: 'Items'\n",
      "error.: 'Items'\n",
      "error.: 'Items'\n",
      "error.: 'Items'\n",
      "error.: 'Items'\n",
      "error.: 'Items'\n",
      "error.: 'Items'\n",
      "error.: 'Items'\n",
      "error.: 'Items'\n",
      "error.: 'Items'\n",
      "error.: 'Items'\n",
      "error.: 'Items'\n",
      "error.: 'Items'\n",
      "error.: 'Items'\n",
      "error.: 'Items'\n",
      "error.: 'Items'\n",
      "error.: 'Items'\n",
      "error.: 'Items'\n",
      "error.: 'Items'\n",
      "error.: 'Items'\n",
      "error.: 'Items'\n",
      "error.: 'Items'\n",
      "error.: 'Items'\n",
      "error.: 'Items'\n"
     ]
    }
   ],
   "source": [
    "for name in titles:\n",
    "    \n",
    "    # j page番号[1~100]\n",
    "    for j in range(1, 100+1):\n",
    "    \n",
    "        # \n",
    "        try:\n",
    "            # i レコード数\n",
    "            for i in range(30):\n",
    "\n",
    "                #APIのURLを取得する\n",
    "                url = api.format(title=name, hits=hit, page=j, APIkey=appID)\n",
    "                #実際にAPIにリクエストを送信して結果を取得する\n",
    "                r = requests.get(url)\n",
    "                # 結果はJSON形式なのでデコードする\n",
    "                data = json.loads(r.text)\n",
    "\n",
    "                # それぞれの要素に格納\n",
    "\n",
    "                ## title\n",
    "                title = data['Items'][i]['Item']['title']\n",
    "                ttl.append(title)\n",
    "\n",
    "                ## author\n",
    "                author = data['Items'][i]['Item']['author']\n",
    "                athr.append(author)\n",
    "\n",
    "                ## publisher name\n",
    "                publisherName = data['Items'][i]['Item']['publisherName']\n",
    "                pub.append(publisherName)\n",
    "\n",
    "                ## item caption\n",
    "                itemCaption = data['Items'][i]['Item']['itemCaption']\n",
    "                icap.append(itemCaption)\n",
    "\n",
    "                ## ISBN (International Standard Book Number)\n",
    "                isbn = data['Items'][i]['Item']['isbn']\n",
    "                ISBN.append(isbn)\n",
    "\n",
    "                ## sales date\n",
    "                salesDate = data['Items'][i]['Item']['salesDate']\n",
    "                sldt.append(salesDate)\n",
    "\n",
    "                ## item price\n",
    "                itemPrice = data['Items'][i]['Item']['itemPrice']\n",
    "                ipri.append(itemPrice)\n",
    "\n",
    "                ## size\n",
    "                size = data['Items'][i]['Item']['size']\n",
    "                Size.append(size)\n",
    "\n",
    "                ## books genre ID\n",
    "                booksGenreId = data['Items'][i]['Item']['booksGenreId']\n",
    "                bgId.append(booksGenreId)\n",
    "\n",
    "                ## review count\n",
    "                reviewCount = data['Items'][i]['Item']['reviewCount']\n",
    "                rcnt.append(reviewCount)\n",
    "\n",
    "                ## review average\n",
    "                reviewAverage = data['Items'][i]['Item']['reviewAverage']\n",
    "                rave.append(reviewAverage)\n",
    "\n",
    "                # webページへのアクセスに待ち時間を設定\n",
    "                time.sleep(0.5)\n",
    "                \n",
    "        # list Index out of range error 例外処理\n",
    "        except IndexError as ie:\n",
    "            sys.exit()\n",
    "        # key error 例外処理\n",
    "        except KeyError as ke:\n",
    "            sys.exit()"
   ]
  },
  {
   "cell_type": "code",
   "execution_count": 154,
   "metadata": {},
   "outputs": [
    {
     "ename": "KeyError",
     "evalue": "'Items'",
     "output_type": "error",
     "traceback": [
      "\u001b[0;31m---------------------------------------------------------------------------\u001b[0m",
      "\u001b[0;31mKeyError\u001b[0m                                  Traceback (most recent call last)",
      "\u001b[0;32m<ipython-input-154-0d5fb4be644b>\u001b[0m in \u001b[0;36m<module>\u001b[0;34m\u001b[0m\n\u001b[0;32m----> 1\u001b[0;31m \u001b[0mdata\u001b[0m\u001b[0;34m[\u001b[0m\u001b[0;34m'Items'\u001b[0m\u001b[0;34m]\u001b[0m\u001b[0;34m[\u001b[0m\u001b[0;36m20\u001b[0m\u001b[0;34m]\u001b[0m\u001b[0;34m[\u001b[0m\u001b[0;34m'Item'\u001b[0m\u001b[0;34m]\u001b[0m\u001b[0;34m[\u001b[0m\u001b[0;34m'title'\u001b[0m\u001b[0;34m]\u001b[0m\u001b[0;34m\u001b[0m\u001b[0;34m\u001b[0m\u001b[0m\n\u001b[0m",
      "\u001b[0;31mKeyError\u001b[0m: 'Items'"
     ]
    }
   ],
   "source": [
    "data['Items'][20]['Item']['title']"
   ]
  },
  {
   "cell_type": "markdown",
   "metadata": {},
   "source": [
    "## list to dataframe"
   ]
  },
  {
   "cell_type": "code",
   "execution_count": 120,
   "metadata": {},
   "outputs": [],
   "source": [
    "ttl = pd.DataFrame(ttl, columns=['title'])\n",
    "athr = pd.DataFrame(athr, columns=['author'])\n",
    "pub = pd.DataFrame(pub, columns=['publisherName'])\n",
    "icap = pd.DataFrame(icap, columns=['itemCaption'])\n",
    "ISBN = pd.DataFrame(ISBN, columns=['ISBN'])\n",
    "sldt = pd.DataFrame(sldt, columns=['salesDate'])\n",
    "ipri = pd.DataFrame(ipri, columns=['itemPrice'])\n",
    "Size = pd.DataFrame(Size, columns=['size'])\n",
    "bgId = pd.DataFrame(bgId, columns=['booksGenreId'])\n",
    "rcnt = pd.DataFrame(rcnt, columns=['reviewCount'])\n",
    "rave = pd.DataFrame(rave, columns=['reviewAverage'])"
   ]
  },
  {
   "cell_type": "markdown",
   "metadata": {},
   "source": [
    "## merge dataframe"
   ]
  },
  {
   "cell_type": "code",
   "execution_count": 126,
   "metadata": {},
   "outputs": [],
   "source": [
    "df = ttl.join([athr, pub, icap, ISBN, sldt, \\\n",
    "               ipri, Size, bgId, rcnt, rave])"
   ]
  },
  {
   "cell_type": "code",
   "execution_count": null,
   "metadata": {},
   "outputs": [],
   "source": []
  }
 ],
 "metadata": {
  "kernelspec": {
   "display_name": "Python 3",
   "language": "python",
   "name": "python3"
  },
  "language_info": {
   "codemirror_mode": {
    "name": "ipython",
    "version": 3
   },
   "file_extension": ".py",
   "mimetype": "text/x-python",
   "name": "python",
   "nbconvert_exporter": "python",
   "pygments_lexer": "ipython3",
   "version": "3.8.3"
  }
 },
 "nbformat": 4,
 "nbformat_minor": 4
}
